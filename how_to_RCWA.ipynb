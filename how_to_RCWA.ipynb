{
 "cells": [
  {
   "cell_type": "markdown",
   "metadata": {},
   "source": [
    "This is a tutorial on how to use this 2D FMM RCWA code."
   ]
  },
  {
   "cell_type": "code",
   "execution_count": 2,
   "metadata": {},
   "outputs": [],
   "source": [
    "import RCWA_project.base as base\n",
    "import RCWA_project.materials as mat\n",
    "import RCWA_project.bunch as bunch\n",
    "import numpy as np\n",
    "\n",
    "# Simple imports"
   ]
  },
  {
   "cell_type": "markdown",
   "metadata": {},
   "source": [
    "Let's define the structure's parameters, as well as some computation variables:\n",
    "- $M_m$ and $N_m$ are number of Fourier modes used in x and y direcitons respectively. These numbers can be quite low (~10) for simple (~2-4 interfaces) problems.\n",
    "- $\\eta$ is the stretching parameter\n",
    "\n",
    "Here we will study the response of an array of a simple Metal-Insulator-Metal (MIM) resonator :\n",
    "\n",
    "<img src=\"MIM.png\" alt=\"MIM\" width=\"500\"/>\n",
    "\n",
    "The necessary parameters are:\n",
    "- height and width of the upper metallic part (the \"cube\")\n",
    "- height of the spacer\n",
    "- period in both directions (here they'll be the same)\n",
    "- permittivity of the spacer (taken as a constant) and of the metal (varies with the wavelength, so defined later)\n",
    "\n",
    "And some extra geometrical parameters:\n",
    "- wavelength $\\lambda$\n",
    "- incidence angle (colatitude) $\\theta$ of the wavevector k\n",
    "- precession angle $\\phi$, with $\\phi = 0$ for k in the (x,z) plane\n",
    "- polarisation (as a rotation around the wavevector, with pol=90 when the E field is parallel to the (x,y) plane (TE))"
   ]
  },
  {
   "cell_type": "code",
   "execution_count": 3,
   "metadata": {},
   "outputs": [],
   "source": [
    "# Computation parameters: nb of modes and stretching coefficient\n",
    "Mm = 8\n",
    "Nm = 8\n",
    "eta = 0.999 # between 0 and 1 (but never exactly 1) Empirically, very close to 1 works really well\n",
    "\n",
    "# Structure parameters: size of a MIM resonator\n",
    "hcube = 40.0               # height of the cube\n",
    "hspacer = 280.0            # height of the spacer\n",
    "l_cubex = 2000.0           # cube width along axis x\n",
    "l_cubey = 2000.0           # cube width along axis y\n",
    "space_x = 5001-l_cubex     # period along x (RCWA nerd advice, never use an exactly round period)\n",
    "space_y = 5002-l_cubey     # period along x (RCWA nerd advice, never use an exactly round period)\n",
    "\n",
    "eps_dielec = 2.2**2        # spacer permittivity\n",
    "metal_perm = mat.epsAubb   # metal permittivity\n",
    "\n",
    "# Incidence parameters\n",
    "lambdas = np.linspace(7000, 13000, 20) # Being a 3D simulation, each point in parameter space can take a few seconds on a reasonable computer\n",
    "theta = 20.0 * np.pi/180.\n",
    "phi = 0.0 * np.pi/180.\n",
    "pol = 90*np.pi/180.\n",
    "\n",
    "# Results will be saved here\n",
    "r = np.zeros(len(lambdas), dtype=complex)"
   ]
  },
  {
   "cell_type": "markdown",
   "metadata": {},
   "source": [
    "Now let's define the structure itself. Each layer is defined by its interfaces in x and y, the permittivities and permeabilities of each zone.\n",
    "\n",
    "More precisely, for each layer, we define:\n",
    "- ox and oy, the interfaces along axis x and y (including the beginning and end of the period) (see image)\n",
    "- nx and ny, typically the same as ox and oy (they are used if your coordinate stretching modifies the positions (ox = old x, nx = new x))\n",
    "- Mm, Nm and eta as above\n",
    "- mu, the permeability in each zone defined by the interfaces\n",
    "- eps, the permittivity in each zone defined by the interfaces\n",
    "- pmlx and pmly, 1 if the zones are supposed to be Perfectly Matched Layers. These work by axis, not by zone (see image)\n",
    "\n",
    "<img src=\"zones.png\" alt=\"zones\" width=\"500\"/>\n",
    "\n",
    "A **Very important point**: for subtle geometrical reasons, if there is an interface at a given position in any layer, then all layers must have this interface.\n",
    "Here, for instance, we define the spacer, air, and metal layers with the same interfaces as the cube layer, though only the cube layer will see a difference along these interfaces."
   ]
  },
  {
   "cell_type": "code",
   "execution_count": 4,
   "metadata": {},
   "outputs": [],
   "source": [
    "\n",
    "top = bunch.Bunch() # The top layer (air)\n",
    "top.ox = [0,l_cubex,l_cubex+space_x]\n",
    "top.nx = [0,l_cubex,l_cubex+space_x]\n",
    "top.oy = [0,l_cubey,l_cubey+space_y]\n",
    "top.ny = [0,l_cubey,l_cubey+space_y]\n",
    "top.Mm=Mm\n",
    "top.Nm=Nm\n",
    "top.mu =  np.array([[1.,1],\n",
    "                  [1.,1.]])\n",
    "top.eps =  np.array([[1.,1],\n",
    "                  [1.,1.]])\n",
    "\n",
    "top.eta=eta\n",
    "top.pmlx=[0, 0]\n",
    "top.pmly=[0, 0]\n",
    "\n",
    "bot = bunch.Bunch() # The substrate layer (gold)\n",
    "bot.ox = [0,l_cubex,l_cubex+space_x]\n",
    "bot.nx = [0,l_cubex,l_cubex+space_x]\n",
    "bot.oy = [0,l_cubey,l_cubey+space_y]\n",
    "bot.ny = [0,l_cubey,l_cubey+space_y]\n",
    "bot.Mm=Mm\n",
    "bot.Nm=Nm\n",
    "bot.mu = np.array([[1.,1],\n",
    "                  [1.,1.]])\n",
    "bot.eta=eta\n",
    "bot.pmlx=[0, 0]\n",
    "bot.pmly=[0, 0]\n",
    "\n",
    "\n",
    "spa = bunch.Bunch() # The spacer layer (dielectric)\n",
    "spa.ox = [0,l_cubex,l_cubex+space_x]\n",
    "spa.nx = [0,l_cubex,l_cubex+space_x]\n",
    "spa.oy = [0,l_cubey,l_cubey+space_y]\n",
    "spa.ny = [0,l_cubey,l_cubey+space_y]\n",
    "spa.Mm=Mm\n",
    "spa.Nm=Nm\n",
    "spa.mu =  np.array([[1.,1],\n",
    "                  [1.,1.]])\n",
    "spa.eps =  np.array([[eps_dielec,eps_dielec],\n",
    "                  [eps_dielec,eps_dielec]])\n",
    "spa.eta=eta\n",
    "spa.pmlx=[0, 0]\n",
    "spa.pmly=[0, 0]\n",
    "\n",
    "gp = bunch.Bunch() # The cube layer, structured\n",
    "gp.ox = [0,l_cubex,l_cubex+space_x]\n",
    "gp.nx = [0,l_cubex,l_cubex+space_x]\n",
    "gp.oy = [0,l_cubey,l_cubey+space_y]\n",
    "gp.ny = [0,l_cubey,l_cubey+space_y]\n",
    "gp.Mm = Mm\n",
    "gp.Nm = Nm\n",
    "gp.mu = np.array([[1.,1],\n",
    "                  [1.,1.]])\n",
    "gp.eta = eta\n",
    "gp.pmlx=[0, 0]\n",
    "gp.pmly=[0, 0]"
   ]
  },
  {
   "cell_type": "markdown",
   "metadata": {},
   "source": [
    "Since we loop on lambdas, the permittivities for layers that are wavelength dependent are defined later, as well as all parameters that are related to k:\n",
    "- k0 the wavevector in vacuum\n",
    "- kx the projection along axis x\n",
    "- ky the projection along axis y\n",
    "\n",
    "And then the main computation is done!"
   ]
  },
  {
   "cell_type": "code",
   "execution_count": 5,
   "metadata": {},
   "outputs": [
    {
     "name": "stdout",
     "output_type": "stream",
     "text": [
      "7000.0\n"
     ]
    },
    {
     "name": "stderr",
     "output_type": "stream",
     "text": [
      "/home/denis/Documents/git/Code_RCWA/RCWA_project/base.py:472: ComplexWarning: Casting complex values to real discards the imaginary part\n",
      "  V[int(ana_kz[3, i_mod])] = ana_kz[0, i_mod]\n",
      "/home/denis/Documents/git/Code_RCWA/RCWA_project/base.py:502: ComplexWarning: Casting complex values to real discards the imaginary part\n",
      "  for j in range(int(ana_kz[0, 0])):\n",
      "/home/denis/Documents/git/Code_RCWA/RCWA_project/base.py:527: ComplexWarning: Casting complex values to real discards the imaginary part\n",
      "  E[:n*m, int(ana_kz[3, j])] = alpha @ vtmp\n",
      "/home/denis/Documents/git/Code_RCWA/RCWA_project/base.py:528: ComplexWarning: Casting complex values to real discards the imaginary part\n",
      "  E[n*m:, int(ana_kz[3, j + np.shape(ana_kz)[1]//2])] = beta @ vtmp\n"
     ]
    },
    {
     "name": "stdout",
     "output_type": "stream",
     "text": [
      "7315.789473684211\n",
      "7631.578947368421\n",
      "7947.368421052632\n",
      "8263.157894736842\n",
      "8578.947368421053\n",
      "8894.736842105263\n",
      "9210.526315789473\n",
      "9526.315789473683\n",
      "9842.105263157895\n",
      "10157.894736842105\n",
      "10473.684210526317\n",
      "10789.473684210527\n",
      "11105.263157894737\n",
      "11421.052631578947\n",
      "11736.842105263157\n",
      "12052.631578947368\n",
      "12368.42105263158\n",
      "12684.21052631579\n",
      "13000.0\n"
     ]
    }
   ],
   "source": [
    "\n",
    "for i, lambd in enumerate(lambdas):\n",
    "    print(lambd)\n",
    "    e_au = metal_perm(lambd)\n",
    "    k0 = 2*np.pi/lambd\n",
    "    top.k0 = k0\n",
    "    spa.k0 = k0\n",
    "    bot.k0 = k0\n",
    "    gp.k0 = k0\n",
    "    kx = -k0 * np.sin(theta) * np.cos(phi)\n",
    "    top.kx = kx\n",
    "    bot.kx = kx\n",
    "    spa.kx = kx\n",
    "    gp.kx = kx\n",
    "    ky = -k0 * np.sin(theta) * np.sin(phi)\n",
    "    top.ky = ky\n",
    "    bot.ky = ky\n",
    "    spa.ky = ky\n",
    "    gp.ky = ky\n",
    "\n",
    "    bot.eps =  np.array([[e_au,e_au],\n",
    "                         [e_au,e_au]])\n",
    "    gp.eps = np.array([[e_au,1.],\n",
    "                       [1.,1.]])  # This is the structured layer, with the metallic part being between ox[0] and ox[1], and between oy[0] and oy[1]\n",
    "    \n",
    "    # Now that everything is defined, we can compute the modes in each structure!\n",
    "\n",
    "    \n",
    "    [Pair,Vair], ext = base.homogene(top, ext=1) # This is the incidence layer, so we add the \"ext\" argument and returned variable, for later\n",
    "\n",
    "    [Pgp,Vgp] = base.reseau(gp)      # This is the structured layer\n",
    "    [Pspa,Vspa] = base.homogene(spa) # These are homogeneous layers, we leverage this\n",
    "    [Psub,Vsub] = base.homogene(bot) # These are homogeneous layers, we leverage this\n",
    "\n",
    "    # The P's are eigenvectors of the layer, i.e. the mode distributions\n",
    "    # The V's are eigenvalues of the layer, i.e. kz^2\n",
    "\n",
    "    # Normally, the eigenvalues with very small imaginary values (numerical error sized imaginary parts) have already been projected to the real axis\n",
    "    # but we're never too sure.\n",
    "    Vair = np.real(Vair) * (np.abs(np.real(Vair))>1e-10) + 1.0j*(np.imag(Vair) * (np.abs(np.imag(Vair))>1e-10))\n",
    "    \n",
    "    # Using the modes computed, we now compute the S matrix of the whole system\n",
    "    S = base.c_bas(base.interface(Pair, Pgp), Vgp, hcube)\n",
    "    S = base.cascade(S, base.c_bas(base.interface(Pgp, Pspa), Vspa, hspacer))\n",
    "    S = base.cascade(S, base.c_bas(base.interface(Pspa, Psub), Vsub, 0))\n",
    "\n",
    "    # Creating the entry vector, using the \"ext\" variable savec previously\n",
    "    # pol = 0\n",
    "    # The modes computed so far do not take into accoun the polarization, so we could here computed the reflection coefficients for different polarizations.\n",
    "    # But for simplicity, we will consider the polarisation defined at the beginning\n",
    "    Ex = np.cos(pol) * np.cos(theta) * np.cos(phi) - np.sin(pol) * np.sin(phi) # Ex incident\n",
    "    Ey = np.cos(pol) * np.cos(theta) * np.sin(phi) + np.sin(pol) * np.cos(phi) # Ey incident\n",
    "    eps_k2 = top.eps[0,0] * top.mu[0,0] * top.k0**2 # eps k^2\n",
    "    d = np.sqrt(eps_k2 - top.kx**2 - top.ky**2) # norm k\n",
    "    # e = normalisation E\n",
    "    norm = ((eps_k2-top.ky**2)*np.abs(Ex)**2 + (eps_k2-top.kx**2)*np.abs(Ey)**2 + 2*top.kx*top.ky*np.real(Ex*Ey)) / (top.mu[0,0]*d)\n",
    "    \n",
    "    V_inc = np.zeros(4 * (2*Nm+1) *(2*Mm+1))\n",
    "    V_inc[int(np.real(ext[3,0]))] = Ex/np.sqrt(norm)\n",
    "    V_inc[int(np.real(ext[3,int(np.real(ext[0,0]))]))] = Ey/np.sqrt(norm)\n",
    "\n",
    "    V_out = S @ V_inc # outgoing fields\n",
    "    V_r = V_out[:2 * (2*Nm+1) *(2*Mm+1)] # Just the reflected fields\n",
    "    reflechi = base.efficace(top, ext, V_r)\n",
    "    r[i] = reflechi[3,0]\n",
    "\n",
    "    # We have no transmission in this case but this is how we would do it: \n",
    "    # V_t = V_out[2 * (2*Nm+1) *(2*Mm+1):] # Just the transmitted fields\n",
    "    # transm = base.efficace(top, ext, V_t)\n",
    "    # t[i] = transm[3,0]"
   ]
  },
  {
   "cell_type": "code",
   "execution_count": 6,
   "metadata": {},
   "outputs": [
    {
     "name": "stdout",
     "output_type": "stream",
     "text": [
      "[0.89927318+0.j 0.94260273+0.j 0.96043266+0.j 0.95941944+0.j\n",
      " 0.95371152+0.j 0.94351566+0.j 0.92611137+0.j 0.89471773+0.j\n",
      " 0.83218157+0.j 0.69074565+0.j 0.35647139+0.j 0.01973491+0.j\n",
      " 0.37056093+0.j 0.67794989+0.j 0.8135316 +0.j 0.8773931 +0.j\n",
      " 0.91156449+0.j 0.93185562+0.j 0.9448901 +0.j 0.95377608+0.j]\n"
     ]
    },
    {
     "name": "stderr",
     "output_type": "stream",
     "text": [
      "/home/denis/.local/lib/python3.10/site-packages/matplotlib/projections/__init__.py:63: UserWarning: Unable to import Axes3D. This may be due to multiple versions of Matplotlib being installed (e.g. as a system package and as a pip package). As a result, the 3D projection is not available.\n",
      "  warnings.warn(\"Unable to import Axes3D. This may be due to multiple versions of \"\n"
     ]
    },
    {
     "data": {
      "image/png": "[encoded data removed]",
      "text/plain": [
       "<Figure size 432x288 with 1 Axes>"
      ]
     },
     "metadata": {
      "needs_background": "light"
     },
     "output_type": "display_data"
    }
   ],
   "source": [
    "print(r)\n",
    "import matplotlib.pyplot as plt\n",
    "plt.plot(lambdas, np.abs(r))\n",
    "plt.xlabel(\"Wavelength\")\n",
    "plt.ylabel(\"Efficiency\")\n",
    "plt.show()"
   ]
  }
 ],
 "metadata": {
  "kernelspec": {
   "display_name": "Python 3",
   "language": "python",
   "name": "python3"
  },
  "language_info": {
   "codemirror_mode": {
    "name": "ipython",
    "version": 3
   },
   "file_extension": ".py",
   "mimetype": "text/x-python",
   "name": "python",
   "nbconvert_exporter": "python",
   "pygments_lexer": "ipython3",
   "version": "3.10.12"
  }
 },
 "nbformat": 4,
 "nbformat_minor": 2
}
